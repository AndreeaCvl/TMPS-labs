{
 "cells": [
  {
   "cell_type": "markdown",
   "id": "36172378",
   "metadata": {},
   "source": [
    "# SOLID - #S and #O implementation"
   ]
  },
  {
   "cell_type": "code",
   "execution_count": 81,
   "id": "b923bd0b",
   "metadata": {},
   "outputs": [],
   "source": [
    "# important imports\n",
    "import numpy as np\n",
    "import pandas as pd\n",
    "import matplotlib.pyplot as plt\n",
    "from abc import ABC, abstractmethod"
   ]
  },
  {
   "cell_type": "markdown",
   "id": "96ab4541",
   "metadata": {},
   "source": [
    "# Single Responsibility Principle"
   ]
  },
  {
   "cell_type": "code",
   "execution_count": 127,
   "id": "d10cb849",
   "metadata": {},
   "outputs": [
    {
     "data": {
      "image/png": "[encoded data removed]",
      "text/plain": [
       "<Figure size 432x288 with 1 Axes>"
      ]
     },
     "metadata": {
      "needs_background": "light"
     },
     "output_type": "display_data"
    }
   ],
   "source": [
    "# class DfScatterplot containing a method for plotting the dataframe which can be modified without affecting the Df class\n",
    "class DfScatterplot:\n",
    "    def scatter(self, df, x, y):\n",
    "        plt.scatter(df[x], df[y])\n",
    "        plt.xlabel(x)\n",
    "        plt.ylabel(y)\n",
    "\n",
    "# class Df which contains a call to class DfScatterplot, which plots the dataframe\n",
    "class Df:\n",
    "    def __init__(self, df):\n",
    "        self.df = df\n",
    "        self.plot = DfScatterplot()\n",
    "\n",
    "    # Respects Sigle Responsibility Principle\n",
    "    def scatter(self, col1, col2):\n",
    "        self.plot.scatter(df=df, x=col1, y=col2)\n",
    "\n",
    "# main code\n",
    "if __name__ == '__main__':\n",
    "   \n",
    "    # initializing a random dataframe with column names A, B, C and D\n",
    "    df = pd.DataFrame(np.random.randint(0,100,size=(15, 4)), columns=list('ABCD'))\n",
    "    \n",
    "    # initializing the class and calling the method\n",
    "    p = Df(df)\n",
    "    p.scatter('A', 'B')"
   ]
  },
  {
   "cell_type": "markdown",
   "id": "59cd008f",
   "metadata": {},
   "source": [
    "# Open-closed Principle"
   ]
  },
  {
   "cell_type": "code",
   "execution_count": 129,
   "id": "39b2f08e",
   "metadata": {},
   "outputs": [
    {
     "name": "stdout",
     "output_type": "stream",
     "text": [
      "Printing a Square:\n",
      "\n",
      "* * * * * \n",
      "* * * * * \n",
      "* * * * * \n",
      "* * * * * \n",
      "* * * * * \n"
     ]
    }
   ],
   "source": [
    "# a class for Shape objects\n",
    "class Shape:\n",
    "    def __init__(self, shape_name, height):\n",
    "        self.shape_name = shape_name\n",
    "        self.shape_height = height\n",
    "\n",
    "    def __repr__(self):\n",
    "        return self.shape_name\n",
    "\n",
    "    \n",
    "# Abstract class ShapePrinter containing an abstract method or printing different shapes\n",
    "class ShapePrinter(ABC):\n",
    "    @abstractmethod\n",
    "    def print_shape(self, shape, height):\n",
    "        pass\n",
    "\n",
    "    \n",
    "# TrianglePrinter - contains method for printing triangles. Inherits from the ShapePrinter class\n",
    "class TrianglePrinter(ShapePrinter):\n",
    "    def print_shape(self, shape, height):\n",
    "        \n",
    "        print(f'Printing a {shape}:\\n')\n",
    "        \n",
    "        k = 1\n",
    "        \n",
    "        for i in range(height):\n",
    "            print('* ' * k)\n",
    "            k += 1\n",
    "\n",
    "            \n",
    "# SquarePrinter - contains method for printing squares. Inherits from the ShapePrinter class\n",
    "class SquarePrinter(ShapePrinter):\n",
    "    def print_shape(self, shape, height):\n",
    "        \n",
    "        print(f'Printing a {shape}:\\n')\n",
    "        \n",
    "        for i in range(height):\n",
    "            print('* ' * height)\n",
    "\n",
    "            \n",
    "# RectanglePrinter - contains method for printing rectangles. Inherits from the ShapePrinter class\n",
    "class RectanglePrinter(ShapePrinter):\n",
    "    def print_shape(self, shape, height):\n",
    "        \n",
    "        print(f'Printing a {shape}:\\n')\n",
    "        \n",
    "        for i in range(height):\n",
    "            print(' * ' * height * 2)\n",
    "\n",
    "# runner code\n",
    "if __name__ == '__main__':\n",
    "    shape = Shape('Square', 5)\n",
    "    screen = SquarePrinter()\n",
    "    screen.print_shape(shape, shape.shape_height)"
   ]
  },
  {
   "cell_type": "code",
   "execution_count": null,
   "id": "b58fb54f",
   "metadata": {},
   "outputs": [],
   "source": []
  }
 ],
 "metadata": {
  "kernelspec": {
   "display_name": "Python 3 (ipykernel)",
   "language": "python",
   "name": "python3"
  },
  "language_info": {
   "codemirror_mode": {
    "name": "ipython",
    "version": 3
   },
   "file_extension": ".py",
   "mimetype": "text/x-python",
   "name": "python",
   "nbconvert_exporter": "python",
   "pygments_lexer": "ipython3",
   "version": "3.8.0"
  }
 },
 "nbformat": 4,
 "nbformat_minor": 5
}
